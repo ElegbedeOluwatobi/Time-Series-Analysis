{
 "cells": [
  {
   "cell_type": "code",
   "execution_count": 18,
   "id": "1940b504",
   "metadata": {},
   "outputs": [
    {
     "name": "stdout",
     "output_type": "stream",
     "text": [
      "Running on local URL:  http://127.0.0.1:7864\n",
      "\n",
      "To create a public link, set `share=True` in `launch()`.\n"
     ]
    },
    {
     "data": {
      "text/html": [
       "<div><iframe src=\"http://127.0.0.1:7864/\" width=\"100%\" height=\"500\" allow=\"autoplay; camera; microphone; clipboard-read; clipboard-write;\" frameborder=\"0\" allowfullscreen></iframe></div>"
      ],
      "text/plain": [
       "<IPython.core.display.HTML object>"
      ]
     },
     "metadata": {},
     "output_type": "display_data"
    },
    {
     "data": {
      "text/plain": []
     },
     "execution_count": 18,
     "metadata": {},
     "output_type": "execute_result"
    }
   ],
   "source": [
    "import pandas as pd\n",
    "import pmdarima as pm\n",
    "import matplotlib.pyplot as plt\n",
    "import gradio as gr\n",
    "import io\n",
    "import warnings\n",
    "warnings.simplefilter(\"ignore\")\n",
    "\n",
    "\n",
    "def predict_timeseries(data_file):\n",
    "    # Load CSV file into a pandas DataFrame\n",
    "    data = pd.read_csv(data_file.name, index_col=[0], parse_dates=True)\n",
    "\n",
    "    # Convert date column to datetime object\n",
    "    data.index = pd.to_datetime(data.index)\n",
    "\n",
    "    # Fit the auto ARIMA model\n",
    "    model = pm.auto_arima(data.values, seasonal=True, m=12)\n",
    "\n",
    "    # Get ARIMA order\n",
    "    arima_order = model.order\n",
    "\n",
    "    # Plot the actual data\n",
    "   # Plot the actual data\n",
    "    fig_actual, ax_actual = plt.subplots()\n",
    "    ax_actual.plot(data, label = data.columns[-1])\n",
    "    ax_actual.set_xlabel(data.index.name)\n",
    "    plt.legend()\n",
    "    ax_actual.set_ylabel(data.columns[-1])\n",
    "    ax_actual.set_title(\"Plot of Actual data for {}\".format(data.columns[-1]))\n",
    "    plt.show()\n",
    "    \n",
    "    # Get the last date in the actual data\n",
    "    last_date = data.index[-1]\n",
    "\n",
    "    # Make predictions\n",
    "    predicted_values = model.predict(n_periods=12)\n",
    "\n",
    "    # Generate a range of dates starting from the start date\n",
    "    pred_index = pd.date_range(start=last_date, periods=len(predicted_values)+1, freq=\"MS\")[1:]\n",
    "\n",
    "    # Create a new dataframe with the predicted values and the generated dates\n",
    "    predictions = pd.DataFrame({'predicted_values': predicted_values}, index=pred_index)\n",
    "    predictions.columns = data.columns\n",
    "    predictions.index.name = data.index.name\n",
    "    predictions.index.freq = data.index.freq\n",
    "\n",
    "    # Merge the dataframes using the index\n",
    "    merged_data = pd.concat([data, predictions], axis=0)\n",
    "\n",
    "    num_actual = len(data.index)\n",
    "\n",
    "    # Plot the actual vs predicted data\n",
    "    actual_data = merged_data.iloc[:num_actual,:]\n",
    "    fig, ax = plt.subplots()\n",
    "    ax.plot(actual_data.index, actual_data[data.columns[-1]], label='Actual')\n",
    "\n",
    "    # Plot the predicted data\n",
    "    predicted_data = merged_data.iloc[num_actual:,:]\n",
    "    ax.plot(predicted_data.index, predicted_data[data.columns[-1]], label='Predicted')\n",
    "\n",
    "    # Add x and y axis labels\n",
    "    ax.set_xlabel(data.index.name)\n",
    "    ax.set_ylabel(data.columns[-1])\n",
    "\n",
    "    # Add title and legend\n",
    "    ax.set_title('Actual vs Predicted')\n",
    "    ax.legend()\n",
    "    plt.show()\n",
    "\n",
    "\n",
    "    return data.head(), fig_actual, arima_order, predictions, fig\n",
    "\n",
    "input_data = gr.inputs.File(label=\"Upload CSV file\")\n",
    "\n",
    "outputs = [gr.outputs.Dataframe(type = \"pandas\", label = \"FIRST FIVE ROWS OF DATASET\"), \n",
    "                                'plot', \n",
    "                                gr.outputs.Textbox(label = \"ARIMA ORDER\"), \n",
    "                                gr.outputs.Dataframe(type = \"pandas\", label = \"PREDICTIONS FOR NEXT 12 PERIODS\"), \n",
    "                                'plot'\n",
    "          ]\n",
    "examples = [\"Electric_Production.csv\"]\n",
    "interface = gr.Interface(fn=predict_timeseries, inputs=input_data, outputs=outputs,\n",
    "                         title=\"Time series Forecast using AUTO ARIMA\",\n",
    "                         description=\"Upload a CSV file of monthly time series data to generate 12 period forecasts using ARIMA.\",\n",
    "                         theme = \"dark\", \n",
    "                         examples = examples,\n",
    "                         live = True)\n",
    "interface.launch()"
   ]
  },
  {
   "cell_type": "code",
   "execution_count": 12,
   "id": "0cba0a31",
   "metadata": {},
   "outputs": [
    {
     "ename": "AttributeError",
     "evalue": "module 'warnings' has no attribute '__version__'",
     "output_type": "error",
     "traceback": [
      "\u001b[1;31m---------------------------------------------------------------------------\u001b[0m",
      "\u001b[1;31mAttributeError\u001b[0m                            Traceback (most recent call last)",
      "\u001b[1;32m~\\AppData\\Local\\Temp/ipykernel_11448/1326010280.py\u001b[0m in \u001b[0;36m<module>\u001b[1;34m\u001b[0m\n\u001b[0;32m      1\u001b[0m \u001b[1;32mimport\u001b[0m \u001b[0mwarnings\u001b[0m \u001b[1;32mas\u001b[0m \u001b[0mwarnings\u001b[0m\u001b[1;33m\u001b[0m\u001b[1;33m\u001b[0m\u001b[0m\n\u001b[1;32m----> 2\u001b[1;33m \u001b[0mprint\u001b[0m\u001b[1;33m(\u001b[0m\u001b[0mwarnings\u001b[0m\u001b[1;33m.\u001b[0m\u001b[0m__version__\u001b[0m\u001b[1;33m)\u001b[0m\u001b[1;33m\u001b[0m\u001b[1;33m\u001b[0m\u001b[0m\n\u001b[0m",
      "\u001b[1;31mAttributeError\u001b[0m: module 'warnings' has no attribute '__version__'"
     ]
    }
   ],
   "source": [
    "import warnings as warnings\n",
    "print(warnings.__version__)"
   ]
  }
 ],
 "metadata": {
  "kernelspec": {
   "display_name": "Python 3 (ipykernel)",
   "language": "python",
   "name": "python3"
  },
  "language_info": {
   "codemirror_mode": {
    "name": "ipython",
    "version": 3
   },
   "file_extension": ".py",
   "mimetype": "text/x-python",
   "name": "python",
   "nbconvert_exporter": "python",
   "pygments_lexer": "ipython3",
   "version": "3.9.7"
  }
 },
 "nbformat": 4,
 "nbformat_minor": 5
}
